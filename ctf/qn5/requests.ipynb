{
  "nbformat": 4,
  "nbformat_minor": 0,
  "metadata": {
    "colab": {
      "provenance": []
    },
    "kernelspec": {
      "name": "python3",
      "display_name": "Python 3"
    },
    "language_info": {
      "name": "python"
    }
  },
  "cells": [
    {
      "cell_type": "code",
      "execution_count": 3,
      "metadata": {
        "colab": {
          "base_uri": "https://localhost:8080/"
        },
        "id": "ySwCSF0ot0Fk",
        "outputId": "f9c35a8f-eead-4d51-b761-da2c236ecb51"
      },
      "outputs": [
        {
          "output_type": "stream",
          "name": "stdout",
          "text": [
            "--2024-03-09 05:22:55--  http://mercury.picoctf.net:36622/\n",
            "Resolving mercury.picoctf.net (mercury.picoctf.net)... 18.189.209.142\n",
            "Connecting to mercury.picoctf.net (mercury.picoctf.net)|18.189.209.142|:36622... connected.\n",
            "HTTP request sent, awaiting response... 200 OK\n",
            "Length: 1073 (1.0K) [text/html]\n",
            "Saving to: ‘index.html’\n",
            "\n",
            "\rindex.html            0%[                    ]       0  --.-KB/s               \rindex.html          100%[===================>]   1.05K  --.-KB/s    in 0s      \n",
            "\n",
            "2024-03-09 05:22:55 (109 MB/s) - ‘index.html’ saved [1073/1073]\n",
            "\n"
          ]
        }
      ],
      "source": [
        "!wget http://mercury.picoctf.net:36622/"
      ]
    },
    {
      "cell_type": "markdown",
      "source": [
        "**Reply:** Only people who use the official PicoBrowser are allowed on this site!"
      ],
      "metadata": {
        "id": "KcTFRAjCuRMN"
      }
    },
    {
      "cell_type": "code",
      "source": [],
      "metadata": {
        "id": "xym7PjJsux43"
      },
      "execution_count": 3,
      "outputs": []
    },
    {
      "cell_type": "code",
      "source": [],
      "metadata": {
        "id": "UTEtBf4buxh9"
      },
      "execution_count": 3,
      "outputs": []
    },
    {
      "cell_type": "code",
      "source": [
        "!wget http://mercury.picoctf.net:36622/ -U PicoBrowser"
      ],
      "metadata": {
        "colab": {
          "base_uri": "https://localhost:8080/"
        },
        "id": "pPbdQyc7uEVv",
        "outputId": "48c5f9f8-29af-40d1-e476-db12a5312e19"
      },
      "execution_count": 4,
      "outputs": [
        {
          "output_type": "stream",
          "name": "stdout",
          "text": [
            "--2024-03-09 05:22:59--  http://mercury.picoctf.net:36622/\n",
            "Resolving mercury.picoctf.net (mercury.picoctf.net)... 18.189.209.142\n",
            "Connecting to mercury.picoctf.net (mercury.picoctf.net)|18.189.209.142|:36622... connected.\n",
            "HTTP request sent, awaiting response... 200 OK\n",
            "Length: 1054 (1.0K) [text/html]\n",
            "Saving to: ‘index.html.1’\n",
            "\n",
            "\rindex.html.1          0%[                    ]       0  --.-KB/s               \rindex.html.1        100%[===================>]   1.03K  --.-KB/s    in 0s      \n",
            "\n",
            "2024-03-09 05:22:59 (75.6 MB/s) - ‘index.html.1’ saved [1054/1054]\n",
            "\n"
          ]
        }
      ]
    },
    {
      "cell_type": "markdown",
      "source": [
        "**Reply:** I don&#39;t trust users visiting from another site."
      ],
      "metadata": {
        "id": "BThDXakcug7L"
      }
    },
    {
      "cell_type": "code",
      "source": [],
      "metadata": {
        "id": "P12cbLwruzYs"
      },
      "execution_count": 4,
      "outputs": []
    },
    {
      "cell_type": "code",
      "source": [],
      "metadata": {
        "id": "TAZMiZoquzQ7"
      },
      "execution_count": 4,
      "outputs": []
    },
    {
      "cell_type": "code",
      "source": [
        "!wget http://mercury.picoctf.net:36622/ -U PicoBrowser --header=\"Referer:http://mercury.picoctf.net:36622\""
      ],
      "metadata": {
        "colab": {
          "base_uri": "https://localhost:8080/"
        },
        "id": "tbtAK4cwudss",
        "outputId": "9d436a5f-82d1-418c-fe98-b6435b0836a7"
      },
      "execution_count": 5,
      "outputs": [
        {
          "output_type": "stream",
          "name": "stdout",
          "text": [
            "--2024-03-09 05:23:02--  http://mercury.picoctf.net:36622/\n",
            "Resolving mercury.picoctf.net (mercury.picoctf.net)... 18.189.209.142\n",
            "Connecting to mercury.picoctf.net (mercury.picoctf.net)|18.189.209.142|:36622... connected.\n",
            "HTTP request sent, awaiting response... 200 OK\n",
            "Length: 1040 (1.0K) [text/html]\n",
            "Saving to: ‘index.html.2’\n",
            "\n",
            "\rindex.html.2          0%[                    ]       0  --.-KB/s               \rindex.html.2        100%[===================>]   1.02K  --.-KB/s    in 0s      \n",
            "\n",
            "2024-03-09 05:23:02 (158 MB/s) - ‘index.html.2’ saved [1040/1040]\n",
            "\n"
          ]
        }
      ]
    },
    {
      "cell_type": "markdown",
      "source": [
        "**Reply:** Sorry, this site only worked in 2018."
      ],
      "metadata": {
        "id": "2ggzCYuru3TM"
      }
    },
    {
      "cell_type": "code",
      "source": [],
      "metadata": {
        "id": "LMDaWQf6uvrH"
      },
      "execution_count": 5,
      "outputs": []
    },
    {
      "cell_type": "code",
      "source": [],
      "metadata": {
        "id": "2AUq3WJhu6Ce"
      },
      "execution_count": 5,
      "outputs": []
    },
    {
      "cell_type": "code",
      "source": [
        "!wget http://mercury.picoctf.net:36622/ -U PicoBrowser --header=\"Referer:http://mercury.picoctf.net:36622\" --header=\"Date:2018\""
      ],
      "metadata": {
        "colab": {
          "base_uri": "https://localhost:8080/"
        },
        "id": "JllM9Pnzu6ZZ",
        "outputId": "917d85d4-aa1a-4610-a78e-ace0df3aeedd"
      },
      "execution_count": 6,
      "outputs": [
        {
          "output_type": "stream",
          "name": "stdout",
          "text": [
            "--2024-03-09 05:23:05--  http://mercury.picoctf.net:36622/\n",
            "Resolving mercury.picoctf.net (mercury.picoctf.net)... 18.189.209.142\n",
            "Connecting to mercury.picoctf.net (mercury.picoctf.net)|18.189.209.142|:36622... connected.\n",
            "HTTP request sent, awaiting response... 200 OK\n",
            "Length: 1046 (1.0K) [text/html]\n",
            "Saving to: ‘index.html.3’\n",
            "\n",
            "\rindex.html.3          0%[                    ]       0  --.-KB/s               \rindex.html.3        100%[===================>]   1.02K  --.-KB/s    in 0s      \n",
            "\n",
            "2024-03-09 05:23:05 (179 MB/s) - ‘index.html.3’ saved [1046/1046]\n",
            "\n"
          ]
        }
      ]
    },
    {
      "cell_type": "markdown",
      "source": [
        "**Reply:** I don&#39;t trust users who can be tracked."
      ],
      "metadata": {
        "id": "VnlkVv_bvFHE"
      }
    },
    {
      "cell_type": "code",
      "source": [],
      "metadata": {
        "id": "WY8n8-StvAUU"
      },
      "execution_count": 6,
      "outputs": []
    },
    {
      "cell_type": "code",
      "source": [],
      "metadata": {
        "id": "fLCzRMrAvLm8"
      },
      "execution_count": 6,
      "outputs": []
    },
    {
      "cell_type": "code",
      "source": [
        "!wget http://mercury.picoctf.net:36622/ -U PicoBrowser --header=\"Referer:http://mercury.picoctf.net:36622\" --header=\"Date:2018\" --header=\"DNT:dnt\""
      ],
      "metadata": {
        "colab": {
          "base_uri": "https://localhost:8080/"
        },
        "id": "qD9303W-vIdY",
        "outputId": "901f4962-decd-427d-fbab-20cb8719c8cc"
      },
      "execution_count": 7,
      "outputs": [
        {
          "output_type": "stream",
          "name": "stdout",
          "text": [
            "--2024-03-09 05:23:08--  http://mercury.picoctf.net:36622/\n",
            "Resolving mercury.picoctf.net (mercury.picoctf.net)... 18.189.209.142\n",
            "Connecting to mercury.picoctf.net (mercury.picoctf.net)|18.189.209.142|:36622... connected.\n",
            "HTTP request sent, awaiting response... 200 OK\n",
            "Length: 1047 (1.0K) [text/html]\n",
            "Saving to: ‘index.html.4’\n",
            "\n",
            "\rindex.html.4          0%[                    ]       0  --.-KB/s               \rindex.html.4        100%[===================>]   1.02K  --.-KB/s    in 0s      \n",
            "\n",
            "2024-03-09 05:23:08 (170 MB/s) - ‘index.html.4’ saved [1047/1047]\n",
            "\n"
          ]
        }
      ]
    },
    {
      "cell_type": "markdown",
      "source": [
        "**Reply:** This website is only for people from Sweden."
      ],
      "metadata": {
        "id": "nlelI4LUvQ01"
      }
    },
    {
      "cell_type": "code",
      "source": [],
      "metadata": {
        "id": "DEpGY6FavLAj"
      },
      "execution_count": 7,
      "outputs": []
    },
    {
      "cell_type": "code",
      "source": [],
      "metadata": {
        "id": "JJKyJLz3pzGc"
      },
      "execution_count": 7,
      "outputs": []
    },
    {
      "cell_type": "code",
      "source": [
        "!wget http://mercury.picoctf.net:36622/ -U PicoBrowser --header=\"Referer:http://mercury.picoctf.net:36622\" --header=\"Date:2018\" --header=\"DNT:dnt\" --header=\"X-Forwarded-For:90.129.0.1\""
      ],
      "metadata": {
        "colab": {
          "base_uri": "https://localhost:8080/"
        },
        "id": "hMWn3Wwtpzr6",
        "outputId": "f6f2a402-50ad-4148-b039-5fb7993b0c6a"
      },
      "execution_count": 8,
      "outputs": [
        {
          "output_type": "stream",
          "name": "stdout",
          "text": [
            "--2024-03-09 05:23:10--  http://mercury.picoctf.net:36622/\n",
            "Resolving mercury.picoctf.net (mercury.picoctf.net)... 18.189.209.142\n",
            "Connecting to mercury.picoctf.net (mercury.picoctf.net)|18.189.209.142|:36622... connected.\n",
            "HTTP request sent, awaiting response... 200 OK\n",
            "Length: 1056 (1.0K) [text/html]\n",
            "Saving to: ‘index.html.5’\n",
            "\n",
            "\rindex.html.5          0%[                    ]       0  --.-KB/s               \rindex.html.5        100%[===================>]   1.03K  --.-KB/s    in 0s      \n",
            "\n",
            "2024-03-09 05:23:10 (113 MB/s) - ‘index.html.5’ saved [1056/1056]\n",
            "\n"
          ]
        }
      ]
    },
    {
      "cell_type": "markdown",
      "source": [
        "**Reply:** You&#39;re in Sweden but you don&#39;t speak Swedish?"
      ],
      "metadata": {
        "id": "9C_QPmowqEf9"
      }
    },
    {
      "cell_type": "code",
      "source": [],
      "metadata": {
        "id": "XuVTK81Sp1Oy"
      },
      "execution_count": 8,
      "outputs": []
    },
    {
      "cell_type": "code",
      "source": [],
      "metadata": {
        "id": "snxjmzUmqG6_"
      },
      "execution_count": 8,
      "outputs": []
    },
    {
      "cell_type": "code",
      "source": [
        "!wget http://mercury.picoctf.net:36622/ -U PicoBrowser --header=\"Referer:http://mercury.picoctf.net:36622\" --header=\"Date:2018\" --header=\"DNT:dnt\" --header=\"X-Forwarded-For:90.129.0.1\" --header=\"Accept-language:sv\""
      ],
      "metadata": {
        "colab": {
          "base_uri": "https://localhost:8080/"
        },
        "id": "vCyfiOtlqHKB",
        "outputId": "a584cce5-7b38-408e-c355-83a76a16ad7b"
      },
      "execution_count": 9,
      "outputs": [
        {
          "output_type": "stream",
          "name": "stdout",
          "text": [
            "--2024-03-09 05:23:13--  http://mercury.picoctf.net:36622/\n",
            "Resolving mercury.picoctf.net (mercury.picoctf.net)... 18.189.209.142\n",
            "Connecting to mercury.picoctf.net (mercury.picoctf.net)|18.189.209.142|:36622... connected.\n",
            "HTTP request sent, awaiting response... 200 OK\n",
            "Length: 1062 (1.0K) [text/html]\n",
            "Saving to: ‘index.html.6’\n",
            "\n",
            "\rindex.html.6          0%[                    ]       0  --.-KB/s               \rindex.html.6        100%[===================>]   1.04K  --.-KB/s    in 0s      \n",
            "\n",
            "2024-03-09 05:23:13 (100 MB/s) - ‘index.html.6’ saved [1062/1062]\n",
            "\n"
          ]
        }
      ]
    },
    {
      "cell_type": "markdown",
      "source": [
        "**Reply:** What can I say except, you are welcome\n",
        "picoCTF{http_h34d3rs_v3ry_c0Ol_much_w0w_0da16bb2}"
      ],
      "metadata": {
        "id": "-abPxcY1qUn_"
      }
    },
    {
      "cell_type": "code",
      "source": [],
      "metadata": {
        "id": "PB0wySzIqamz"
      },
      "execution_count": 9,
      "outputs": []
    },
    {
      "cell_type": "code",
      "source": [],
      "metadata": {
        "id": "oGYGXEKcqM9H"
      },
      "execution_count": 9,
      "outputs": []
    }
  ]
}