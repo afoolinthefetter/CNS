{
  "nbformat": 4,
  "nbformat_minor": 0,
  "metadata": {
    "colab": {
      "provenance": []
    },
    "kernelspec": {
      "name": "python3",
      "display_name": "Python 3"
    },
    "language_info": {
      "name": "python"
    }
  },
  "cells": [
    {
      "cell_type": "code",
      "source": [
        "!pip install pycryptodome"
      ],
      "metadata": {
        "colab": {
          "base_uri": "https://localhost:8080/"
        },
        "id": "0SOjlKtnWyhg",
        "outputId": "64d66b72-13e9-4904-833f-5fd1376e1725"
      },
      "execution_count": 2,
      "outputs": [
        {
          "output_type": "stream",
          "name": "stdout",
          "text": [
            "Collecting pycryptodome\n",
            "  Downloading pycryptodome-3.20.0-cp35-abi3-manylinux_2_17_x86_64.manylinux2014_x86_64.whl (2.1 MB)\n",
            "\u001b[2K     \u001b[90m━━━━━━━━━━━━━━━━━━━━━━━━━━━━━━━━━━━━━━━━\u001b[0m \u001b[32m2.1/2.1 MB\u001b[0m \u001b[31m10.5 MB/s\u001b[0m eta \u001b[36m0:00:00\u001b[0m\n",
            "\u001b[?25hInstalling collected packages: pycryptodome\n",
            "Successfully installed pycryptodome-3.20.0\n"
          ]
        }
      ]
    },
    {
      "cell_type": "code",
      "execution_count": 3,
      "metadata": {
        "colab": {
          "base_uri": "https://localhost:8080/"
        },
        "id": "FBfCMetPWPTx",
        "outputId": "be9281e5-ec41-48f4-d766-383fae9cac31"
      },
      "outputs": [
        {
          "output_type": "stream",
          "name": "stderr",
          "text": [
            "Bruteforcing 1st Key: 100%|██████████| 999999/999999 [00:23<00:00, 43413.21it/s]\n",
            "Bruteforcing 2nd Key: 100%|██████████| 999999/999999 [00:22<00:00, 44301.43it/s]"
          ]
        },
        {
          "output_type": "stream",
          "name": "stdout",
          "text": [
            "Finding Key Intersection...\n",
            "1st Key Found: b'973573  '\n",
            "2nd Key Found: b'755737  '\n",
            "Flag: 6d4e063d16d250b953d009e2ef07e241        \n"
          ]
        },
        {
          "output_type": "stream",
          "name": "stderr",
          "text": [
            "\n"
          ]
        }
      ],
      "source": [
        "import binascii\n",
        "from Crypto.Cipher import DES\n",
        "from tqdm import tqdm\n",
        "\n",
        "padding = \"  \"\n",
        "encrypted_flag = binascii.unhexlify(\"dcec505f29a7a00a290751adf30bb8d496a1acc8c4cedcc9f2f0c8cc1d9f8322375095883518a083\")\n",
        "\n",
        "def pad(msg):\n",
        "    block_len = 8\n",
        "    over = len(msg) % block_len\n",
        "    pad = block_len - over\n",
        "    return (msg + \" \" * pad).encode()\n",
        "\n",
        "custom_known_text = pad(binascii.unhexlify(\"12345678\").decode())\n",
        "custom_ciphertext = binascii.unhexlify(\"a0c8972feadffda4\")\n",
        "\n",
        "encrypt_table = {}\n",
        "for key in tqdm(range(999999), desc=\"Bruteforcing 1st Key\"):\n",
        "    key = (f\"{key:06}\" + padding).encode()\n",
        "    cipher = DES.new(key, DES.MODE_ECB)\n",
        "    encrypted_custom = cipher.encrypt(custom_known_text)\n",
        "    encrypt_table[encrypted_custom] = key\n",
        "\n",
        "decrypt_table = {}\n",
        "for key in tqdm(range(999999), desc=\"Bruteforcing 2nd Key\"):\n",
        "    key = (f\"{key:06}\" + padding).encode()\n",
        "    cipher = DES.new(key, DES.MODE_ECB)\n",
        "    decrypted_custom = cipher.decrypt(custom_ciphertext)\n",
        "    decrypt_table[decrypted_custom] = key\n",
        "\n",
        "print(\"Finding Key Intersection...\")\n",
        "encrypt_table_set = set(encrypt_table.keys())\n",
        "decrypt_table_set = set(decrypt_table.keys())\n",
        "for encrypt_decrypt_value in encrypt_table_set.intersection(decrypt_table_set):\n",
        "    encrypt_key = encrypt_table[encrypt_decrypt_value]\n",
        "    decrypt_key = decrypt_table[encrypt_decrypt_value]\n",
        "    break\n",
        "print(\"1st Key Found: %s\" % encrypt_key)\n",
        "print(\"2nd Key Found: %s\" % decrypt_key)\n",
        "\n",
        "cipher1 = DES.new(encrypt_key, DES.MODE_ECB)\n",
        "cipher2 = DES.new(decrypt_key, DES.MODE_ECB)\n",
        "flag_intermediate = cipher2.decrypt(encrypted_flag)\n",
        "flag = cipher1.decrypt(flag_intermediate).decode()\n",
        "print(\"Flag: %s\" % flag)"
      ]
    },
    {
      "cell_type": "code",
      "source": [],
      "metadata": {
        "id": "86YpZu0AWicy"
      },
      "execution_count": null,
      "outputs": []
    }
  ]
}